{
 "cells": [
  {
   "cell_type": "code",
   "execution_count": 4,
   "metadata": {},
   "outputs": [],
   "source": [
    "import DatasetPrepare\n",
    "import numpy as np\n",
    "import pandas as pd\n",
    "import matplotlib.pyplot as plt\n",
    "from sklearn.ensemble import RandomForestRegressor, GradientBoostingRegressor, AdaBoostRegressor\n",
    "from sklearn.metrics import mean_absolute_error, mean_squared_error, r2_score\n"
   ]
  },
  {
   "cell_type": "code",
   "execution_count": 5,
   "metadata": {},
   "outputs": [
    {
     "ename": "NameError",
     "evalue": "name 'getFujiDatasets' is not defined",
     "output_type": "error",
     "traceback": [
      "\u001b[0;31m---------------------------------------------------------------------------\u001b[0m",
      "\u001b[0;31mNameError\u001b[0m                                 Traceback (most recent call last)",
      "Cell \u001b[0;32mIn[5], line 2\u001b[0m\n\u001b[1;32m      1\u001b[0m \u001b[39m#Load data and create new column\u001b[39;00m\n\u001b[0;32m----> 2\u001b[0m df \u001b[39m=\u001b[39m pd\u001b[39m.\u001b[39mDataFrame(getFujiDatasets())\n\u001b[1;32m      3\u001b[0m df[\u001b[39m'\u001b[39m\u001b[39my\u001b[39m\u001b[39m'\u001b[39m] \u001b[39m=\u001b[39m df[\u001b[39m'\u001b[39m\u001b[39mFuji\u001b[39m\u001b[39m'\u001b[39m]\u001b[39m.\u001b[39mshift(\u001b[39m-\u001b[39m\u001b[39m1\u001b[39m)\n\u001b[1;32m      4\u001b[0m df \u001b[39m=\u001b[39m df\u001b[39m.\u001b[39mdropna(subset\u001b[39m=\u001b[39m[\u001b[39m'\u001b[39m\u001b[39my\u001b[39m\u001b[39m'\u001b[39m])\n",
      "\u001b[0;31mNameError\u001b[0m: name 'getFujiDatasets' is not defined"
     ]
    }
   ],
   "source": [
    "#Load data and create new column\n",
    "df = pd.DataFrame(getFujiDatasets())\n",
    "df['y'] = df['Fuji'].shift(-1)\n",
    "df = df.dropna(subset=['y'])\n",
    "df['baseline_pred'] = df['Fuji']"
   ]
  },
  {
   "cell_type": "code",
   "execution_count": null,
   "metadata": {},
   "outputs": [],
   "source": [
    "#Preparing data (Feature and Target)\n",
    "X_train = df['Fuji'].values.reshape(-1,1)\n",
    "y_train = df['y'].values.reshape(-1,1)\n",
    "X_test = df['Fuji'].values.reshape(-1,1)"
   ]
  },
  {
   "cell_type": "code",
   "execution_count": null,
   "metadata": {},
   "outputs": [],
   "source": [
    "#Initialize Random Forest Regressor Model\n",
    "random_reg = RandomForestRegressor()\n",
    "\n",
    "#Fit the model\n",
    "random_reg.fit(X_train, y_train)\n",
    "#Make predictions\n",
    "predictions_random = random_reg.predict(X_test)\n",
    "\n",
    "#Assign predictions to new column\n",
    "df['random_pred'] = predictions_random\n",
    "\n",
    "#Evaluate\n",
    "random_mae = mean_absolute_error(y_train, predictions_random)\n",
    "random_mse = mean_squared_error(y_train, predictions_random)\n",
    "random_r2 = r2_score(y_train, predictions_random)\n",
    "print(\"MAE\", random_mae)\n",
    "print(\"MSE\", random_mse)\n",
    "print(\"R-squared:\", random_r2)"
   ]
  },
  {
   "cell_type": "code",
   "execution_count": null,
   "metadata": {},
   "outputs": [],
   "source": [
    "#Initialize Gradient Boosting Regressor Model\n",
    "gradient_reg = GradientBoostingRegressor()\n",
    "\n",
    "#Fit the model\n",
    "gradient_reg.fit(X_train, y_train)\n",
    "\n",
    "#Make predictions\n",
    "predictions_gradient = gradient_reg.predict(X_test)\n",
    "\n",
    "#Assign predictions to new column\n",
    "df['gradient_pred'] = predictions_gradient\n",
    "\n",
    "#Evaluate\n",
    "gradient_mae = mean_absolute_error(y_train, predictions_gradient)\n",
    "gradient_mse = mean_squared_error(y_train, predictions_gradient)\n",
    "gradient_r2 = r2_score(y_train, predictions_gradient)\n",
    "print(\"MAE\", gradient_mae)\n",
    "print(\"MSE\", gradient_mae)\n",
    "print(\"R-squared:\", gradient_r2)"
   ]
  },
  {
   "cell_type": "code",
   "execution_count": null,
   "metadata": {},
   "outputs": [],
   "source": [
    "#Initialize Ada Boost Regressor Model\n",
    "ada_reg = AdaBoostRegressor()\n",
    "\n",
    "#Fit the model\n",
    "ada_reg.fit(X_train, y_train)\n",
    "\n",
    "#Make predictions\n",
    "predictions_ada = ada_reg.predict(X_test)\n",
    "\n",
    "#Assign predictions to new column\n",
    "df['ada_pred'] = predictions_ada\n",
    "\n",
    "#Evaluate\n",
    "ada_mae = mean_absolute_error(y_train, predictions_ada)\n",
    "ada_mse = mean_squared_error(y_train, predictions_ada)\n",
    "ada_r2 = r2_score(y_train, predictions_ada)\n",
    "print(\"MAE\", ada_mae)\n",
    "print(\"MSE\", ada_mse)\n",
    "print(\"R-squared:\", gradient_r2)"
   ]
  },
  {
   "cell_type": "code",
   "execution_count": null,
   "metadata": {},
   "outputs": [],
   "source": [
    "#Implement Mape Function\n",
    "def mape(y_true, y_pred):\n",
    "    return round(np.mean(np.abs((y_true - y_pred) / y_true)) * 100, 2)\n",
    "  \n",
    "random_mape = mape(y_train, predictions_random)\n",
    "gradient_mape = mape(y_train, predictions_gradient)\n",
    "ada_mape = mape(y_train, predictions_ada)\n",
    "\n",
    "x = np.array([\"Random Forest\", \"Gradient Boosting\", \"Ada Boost\"])\n",
    "y = np.array([random_mape, gradient_mape, ada_mape])\n",
    "\n",
    "plt.bar(x,y)\n",
    "plt.title('MAPE')\n",
    "plt.legend()\n",
    "plt.show()"
   ]
  },
  {
   "cell_type": "code",
   "execution_count": null,
   "metadata": {},
   "outputs": [],
   "source": [
    "x = np.array([\"Random Forest\", \"Gradient Boosting\", \"Ada Boost\"])\n",
    "y = np.array([random_r2, gradient_r2, ada_r2])\n",
    "\n",
    "plt.bar(x,y)\n",
    "plt.title('R2 Score')\n",
    "plt.legend()\n",
    "plt.show()"
   ]
  }
 ],
 "metadata": {
  "kernelspec": {
   "display_name": "Python 3",
   "language": "python",
   "name": "python3"
  },
  "language_info": {
   "codemirror_mode": {
    "name": "ipython",
    "version": 3
   },
   "file_extension": ".py",
   "mimetype": "text/x-python",
   "name": "python",
   "nbconvert_exporter": "python",
   "pygments_lexer": "ipython3",
   "version": "3.12.2"
  }
 },
 "nbformat": 4,
 "nbformat_minor": 2
}
