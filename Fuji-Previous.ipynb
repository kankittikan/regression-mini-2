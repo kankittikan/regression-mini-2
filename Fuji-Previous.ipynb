{
 "cells": [
  {
   "cell_type": "code",
   "execution_count": null,
   "metadata": {},
   "outputs": [],
   "source": [
    "import DatasetPrepare\n",
    "import numpy as np\n",
    "import pandas as pd\n",
    "import matplotlib.pyplot as plt\n",
    "from sklearn.ensemble import RandomForestRegressor, GradientBoostingRegressor , AdaBoostRegressor\n",
    "from sklearn.metrics import mean_absolute_error, mean_squared_error, r2_score\n"
   ]
  },
  {
   "cell_type": "code",
   "execution_count": null,
   "metadata": {},
   "outputs": [],
   "source": [
    "#Load data and create new column\n",
    "df = pd.DataFrame(DatasetPrepare.getFujiDatasets())\n",
    "df['y'] = df['Fuji'].shift(-1)\n",
    "df = df.dropna(subset=['y'])\n",
    "df['baseline_pred'] = df['Fuji']"
   ]
  },
  {
   "cell_type": "code",
   "execution_count": null,
   "metadata": {},
   "outputs": [],
   "source": [
    "X_train = df['Fuji'].values.reshape(-1,1)\n",
    "y_train = df['y'].values.reshape(-1,1)\n",
    "X_test = df['Fuji'].values.reshape(-1,1)"
   ]
  },
  {
   "cell_type": "code",
   "execution_count": null,
   "metadata": {},
   "outputs": [],
   "source": [
    "#Initialize Random Forest Regressor Model\n",
    "random_reg = RandomForestRegressor()\n",
    "\n",
    "#Fit the model\n",
    "random_reg.fit(X_train, y_train)\n",
    "#Make predictions\n",
    "predictions_random = random_reg.predict(X_test)\n",
    "\n",
    "#Assign predictions to new column\n",
    "df['random_pred'] = predictions_random\n",
    "\n",
    "random_mae = mean_absolute_error(y_train, predictions_random)\n",
    "random_mse = mean_squared_error(y_train, predictions_random)\n",
    "random_r2 = r2_score(y_train, predictions_random)\n",
    "print(\"MAE:\", random_mae)\n",
    "print(\"MSE:\", random_mse)\n",
    "print(\"R-squared:\", random_r2)"
   ]
  },
  {
   "cell_type": "code",
   "execution_count": null,
   "metadata": {},
   "outputs": [],
   "source": [
    "#Initialize Gradient Boosting Regressor Model\n",
    "gradient_reg = GradientBoostingRegressor()\n",
    "\n",
    "#Fit the model\n",
    "gradient_reg.fit(X_train, y_train)\n",
    "#Make predictions\n",
    "predictions_gradient = gradient_reg.predict(X_test)\n",
    "\n",
    "#Assign predictions to new column\n",
    "df['gradient_pred'] = predictions_gradient\n",
    "\n",
    "#Evaluate\n",
    "gradient_mae = mean_absolute_error(y_train, predictions_gradient)\n",
    "gradient_mse = mean_squared_error(y_train, predictions_gradient)\n",
    "gradient_r2 = r2_score(y_train, predictions_gradient)\n",
    "print(\"MAE:\", gradient_mae)\n",
    "print(\"MSE:\", gradient_mae)\n",
    "print(\"R-squared:\", gradient_r2)"
   ]
  },
  {
   "cell_type": "code",
   "execution_count": null,
   "metadata": {},
   "outputs": [],
   "source": [
    "#Initialize Ada Boost Regressor Model\n",
    "ada_reg = AdaBoostRegressor()\n",
    "\n",
    "#Fit the model\n",
    "ada_reg.fit(X_train, y_train)\n",
    "#Make predictions\n",
    "predictions_ada = ada_reg.predict(X_test)\n",
    "\n",
    "#Assign predictions to new column\n",
    "df['ada_pred'] = predictions_ada\n",
    "\n",
    "#Evaluate\n",
    "ada_mae = mean_absolute_error(y_train, predictions_ada)\n",
    "ada_mse = mean_squared_error(y_train, predictions_ada)\n",
    "ada_r2 = r2_score(y_train, predictions_ada)\n",
    "print(\"MAE:\", ada_mae)\n",
    "print(\"MSE:\", ada_mse)\n",
    "print(\"R-squared:\", ada_r2)"
   ]
  },
  {
   "cell_type": "code",
   "execution_count": null,
   "metadata": {},
   "outputs": [],
   "source": [
    "# evaluting\n",
    "f = plt.figure()\n",
    "f.set_figwidth(40)\n",
    "f.set_figheight(20)\n",
    "\n",
    "plt.plot(df.index, df['baseline_pred'], label='baseline')\n",
    "plt.plot(df.index, df['random_pred'], label='Random Forest')\n",
    "plt.plot(df.index, df['gradient_pred'], label='Gradient Boosting')\n",
    "plt.plot(df.index, df['ada_pred'], label='Ada Boost')\n",
    "plt.title('Prediction')\n",
    "plt.legend()\n",
    "plt.show()"
   ]
  },
  {
   "cell_type": "code",
   "execution_count": null,
   "metadata": {},
   "outputs": [],
   "source": [
    "#Implement Mape Function\n",
    "def mape(y_true, y_pred):\n",
    "    return round(np.mean(np.abs((y_true - y_pred) / y_true)) * 100, 2)\n",
    "  \n",
    "random_mape = mape(y_train, predictions_random)\n",
    "gradient_mape = mape(y_train, predictions_gradient)\n",
    "ada_mape = mape(y_train, predictions_ada)\n",
    "\n",
    "x = np.array([\"Random Forest\", \"Gradient Boosting\", \"Ada Boost\"])\n",
    "y = np.array([random_mape, gradient_mape, ada_mape])\n",
    "\n",
    "plt.bar(x,y)\n",
    "plt.title('MAPE')\n",
    "plt.legend()\n",
    "plt.show()\n"
   ]
  },
  {
   "cell_type": "code",
   "execution_count": null,
   "metadata": {},
   "outputs": [],
   "source": [
    "x = np.array([\"Random Forest\", \"Gradient Boosting\", \"Ada Boost\"])\n",
    "y = np.array([random_r2, gradient_r2, ada_r2])\n",
    "\n",
    "plt.bar(x,y)\n",
    "plt.title('R2 Score')\n",
    "plt.legend()\n",
    "plt.show()"
   ]
  }
 ],
 "metadata": {
  "kernelspec": {
   "display_name": "Python 3",
   "language": "python",
   "name": "python3"
  },
  "language_info": {
   "name": "python",
   "version": "3.12.2"
  },
  "orig_nbformat": 4
 },
 "nbformat": 4,
 "nbformat_minor": 2
}
